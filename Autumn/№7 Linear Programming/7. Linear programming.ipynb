{
 "cells": [
  {
   "cell_type": "markdown",
   "metadata": {},
   "source": [
    "# Linear programming\n",
    "### Забара Илья"
   ]
  },
  {
   "cell_type": "markdown",
   "metadata": {},
   "source": [
    "## №1\n",
    "\n",
    "Выпишем задачу ЛП.\n",
    "\n",
    "Максимизируемая функкция будет такая: $5y_1+7y_2+13y_3\\longrightarrow \\displaystyle{\\max_x}$.\n",
    "\n",
    "Ограничение на производственную мощность, с учётом, что завод не может все 6 дней работать над одним и тем же: $\\dfrac{y_1}{5000}+\\dfrac{y_2}{4000}+\\dfrac{y_3}{2000}\\leq6$.\n",
    "\n",
    "Ограничение на размер склада: $\\dfrac{30y_1}{1000}+\\dfrac{50y_2}{1000}+\\dfrac{220y_3}{1000}\\leq 1500$.\n",
    "\n",
    "Ограничения коммерческого соглашения: $y_1\\geq 4500, \\ y_3 \\geq 4000$.\n",
    "\n",
    "Ограничение спроса: $y_1\\leq10000, \\ y_2\\leq14000, \\ y_3\\leq7000$.\n",
    "\n",
    "Все переменные должны быть неотрицательными: $y_1, y_2, y_3 \\geq0$.\n",
    "\n",
    "Импортируем модуль среды из pyomo и создадим модель:\n"
   ]
  },
  {
   "cell_type": "code",
   "execution_count": 112,
   "metadata": {},
   "outputs": [],
   "source": [
    "from pyomo.environ import *\n",
    "\n",
    "model1 = ConcreteModel()"
   ]
  },
  {
   "cell_type": "markdown",
   "metadata": {},
   "source": [
    "Теперь определим наши переменные, уже с учётом неотрицательности. Параметр within используется в этих объявлениях параметров для определения ожидаемых свойств параметров (неотрицательности). Компонент Var используется для определения переменных:"
   ]
  },
  {
   "cell_type": "code",
   "execution_count": 113,
   "metadata": {},
   "outputs": [],
   "source": [
    "model1.y1 = Var(within=NonNegativeReals)\n",
    "model1.y2 = Var(within=NonNegativeReals)\n",
    "model1.y3 = Var(within=NonNegativeReals)"
   ]
  },
  {
   "cell_type": "markdown",
   "metadata": {},
   "source": [
    "Теперь нам надо определить ограничения:"
   ]
  },
  {
   "cell_type": "code",
   "execution_count": 114,
   "metadata": {},
   "outputs": [],
   "source": [
    "model1.prod = Constraint(expr = model1.y1/5000 + model1.y2/4000 + model1.y3/2000 <= 6)\n",
    "model1.storage = Constraint(expr = 30*model1.y1/1000 + 50*model1.y2/1000 + 220*model1.y3/1000 <= 1500)\n",
    "model1.min_headphone = Constraint(expr = -model1.y1 <= -4500)\n",
    "model1.min_laptop = Constraint(expr = -model1.y3 <= -4000)\n",
    "model1.max_headphone = Constraint(expr = model1.y1 <= 10000)\n",
    "model1.max_phone = Constraint(expr = model1.y2 <= 14000)\n",
    "model1.max_laptop = Constraint(expr = model1.y3 <= 7000)"
   ]
  },
  {
   "cell_type": "markdown",
   "metadata": {},
   "source": [
    "Далее задаём *максимизируемую* целевую функцию (за максимизацию отвечает аргумент sense). "
   ]
  },
  {
   "cell_type": "code",
   "execution_count": 115,
   "metadata": {},
   "outputs": [],
   "source": [
    "model1.profit = Objective(expr = 5*model1.y1 + 7*model1.y2 + 12*model1.y3, sense=maximize)"
   ]
  },
  {
   "cell_type": "markdown",
   "metadata": {},
   "source": [
    "Теперь решаем задачу по построенной модели солвером GLPK и выводим результат на экран:"
   ]
  },
  {
   "cell_type": "code",
   "execution_count": 116,
   "metadata": {},
   "outputs": [
    {
     "name": "stdout",
     "output_type": "stream",
     "text": [
      "Оптимальные значения y1, y2 и y3:  10000.0 6400.0 4000.0\n",
      "Максимальная прибыль:  142800.0\n"
     ]
    }
   ],
   "source": [
    "solver1 = SolverFactory('glpk')\n",
    "solver1.solve(model1)\n",
    "\n",
    "print(\"Оптимальные значения y1, y2 и y3: \", model1.y1(), model1.y2(), model1.y3())\n",
    "print(\"Максимальная прибыль: \", model1.profit())"
   ]
  },
  {
   "cell_type": "markdown",
   "metadata": {},
   "source": [
    "Теперь проведём анализ чувствительности ограничений в данной задаче. Для этого решим двойственную задачу и посмотрим на получившиеся при этом двойственные переменные.\n",
    "\n",
    "Для нахождения решения двойственной задачи воспользуемся также библиотекой pyomo, взяв за основу решение исходной задачи. Можно сразу получать значения двойственных переменных. Об можно узнать из документации. Ссылка на документацию с примерами, взятыми за основу: https://pyomo.readthedocs.io/en/stable/pyomo_modeling_components/Suffixes.html ."
   ]
  },
  {
   "cell_type": "code",
   "execution_count": 117,
   "metadata": {},
   "outputs": [
    {
     "name": "stdout",
     "output_type": "stream",
     "text": [
      "Оптимальное решение двойственной задачи для каждого из ограничений\n",
      "prod : lambda_i =  0.0\n",
      "storage : lambda_i =  140.0\n",
      "min_headphone : lambda_i =  0.0\n",
      "min_laptop : lambda_i =  18.8\n",
      "max_headphone : lambda_i =  0.8\n",
      "max_phone : lambda_i =  0.0\n",
      "max_laptop : lambda_i =  0.0\n"
     ]
    }
   ],
   "source": [
    "solver = SolverFactory('glpk')\n",
    "model1.dual = Suffix(direction=Suffix.IMPORT)  # создаём суффикс объекта для хранения двойственых переменных\n",
    "solver.solve(model1)  # ещё раз прогоняем решение\n",
    "\n",
    "# выводим двойственные значения\n",
    "print(\"Оптимальное решение двойственной задачи для каждого из ограничений\")\n",
    "for c in model1.component_objects(Constraint, active=True):\n",
    "    for index in c:\n",
    "        print(c, \": lambda_i = \",  model1.dual[c[index]])"
   ]
  },
  {
   "cell_type": "markdown",
   "metadata": {},
   "source": [
    "Из физического смысла множителей Лагранжа можно сделать вывод о том, какое ограничение можно было бы ослабить, чтобы максимально увеличить прибыль. Наибольший множитель Лагранжа соответствует ограничению storage, задающему максимальный размер места хранения товаров.\n",
    "Это означает, что оптиимальное решение наболее чувствительно именно к этому ограничению. Остальные ограничения либо не влияют, либо существенно меньше влияют на получаемое решение. Это известно из теории  возмущённой задачи (рассмотрено на одном из предыдущих занятий).\n",
    "\n",
    "Давайте теперь создадим модель model2, в которой \"расширим\" место хранения товаров. Зададим максимальный объём не 1500, а уже, например, 2500:"
   ]
  },
  {
   "cell_type": "code",
   "execution_count": 118,
   "metadata": {},
   "outputs": [
    {
     "name": "stdout",
     "output_type": "stream",
     "text": [
      "Values of y1, y2 and y3:  10000.0 14000.0 6818.18181818182\n",
      "Максимальная прибыль с расшренным складом:  229818.18181818182\n"
     ]
    }
   ],
   "source": [
    "model2 = ConcreteModel()\n",
    "\n",
    "model2.y1 = Var(within=NonNegativeReals)\n",
    "model2.y2 = Var(within=NonNegativeReals)\n",
    "model2.y3 = Var(within=NonNegativeReals)\n",
    "\n",
    "model2.prod1 = Constraint(expr = model2.y1<= 5000*6)\n",
    "model2.prod2 = Constraint(expr = model2.y2<= 4000*6)\n",
    "model2.prod3 = Constraint(expr = model2.y3<= 2000*6)\n",
    "model2.storage = Constraint(expr = 30*model2.y1/1000 + 50*model2.y2/1000 + 220*model2.y3/1000 <= 2500)  # расширили объём места хранения\n",
    "model2.min_headphone = Constraint(expr = -model2.y1 <= -4500)\n",
    "model2.min_laptop = Constraint(expr = -model2.y3 <= -4000)\n",
    "model2.max_headphone = Constraint(expr = model2.y1 <= 10000)\n",
    "model2.max_phone = Constraint(expr = model2.y2 <= 14000)\n",
    "model2.max_laptop = Constraint(expr = model2.y3 <= 7000)\n",
    "\n",
    "model2.profit = Objective(expr = 5*model2.y1 + 7*model2.y2 + 12*model2.y3, sense=maximize)\n",
    "\n",
    "solver = SolverFactory('glpk')\n",
    "model2.dual = Suffix(direction=Suffix.IMPORT)\n",
    "solver.solve(model2)\n",
    "\n",
    "print(\"Values of y1, y2 and y3: \", model2.y1(), model2.y2(), model2.y3())\n",
    "print(\"Максимальная прибыль с расшренным складом: \", model2.profit())"
   ]
  },
  {
   "cell_type": "markdown",
   "metadata": {},
   "source": [
    "Видим, что действительно прибыль значительно выросла, что говорит о том, что ограничение на размер хранилища товаров действительно сильно влияет на макисмальную прибыль.\n",
    "\n",
    "На всякий случай убедимся, что, например, ограничение min_laptops действительно меньше влияет на максимальную прибыль. Для этого создадим и решим model3, в которой разрешим производить количество чехлов для ноутбуков не от 4000 единиц, а от 3000 единиц, дав тем самым больше свободы для данной модели. Возмущение при этом такое же, как в model2 (увеличили правую часть этого ограничения (умноженного на -1 для классической постановки) на 1000 также как и в model2):"
   ]
  },
  {
   "cell_type": "code",
   "execution_count": 119,
   "metadata": {},
   "outputs": [
    {
     "name": "stdout",
     "output_type": "stream",
     "text": [
      "Values of y1, y2 and y3:  10000.0 10800.0 3000.0\n",
      "Максимальная прибыль с ослабленным ограничением min_laptops:  161600.0\n"
     ]
    }
   ],
   "source": [
    "model3 = ConcreteModel()\n",
    "\n",
    "model3.y1 = Var(within=NonNegativeReals)\n",
    "model3.y2 = Var(within=NonNegativeReals)\n",
    "model3.y3 = Var(within=NonNegativeReals)\n",
    "\n",
    "model3.prod1 = Constraint(expr = model3.y1<= 5000*6)\n",
    "model3.prod2 = Constraint(expr = model3.y2<= 4000*6)\n",
    "model3.prod3 = Constraint(expr = model3.y3<= 2000*6)\n",
    "model3.storage = Constraint(expr = 30*model3.y1/1000 + 50*model3.y2/1000 + 220*model3.y3/1000 <= 1500)  \n",
    "model3.min_headphone = Constraint(expr = -model3.y1 <= -4500)\n",
    "model3.min_laptop = Constraint(expr = -model3.y3 <= -3000)  # ослабили ограничение на min_laptops\n",
    "model3.max_headphone = Constraint(expr = model3.y1 <= 10000)\n",
    "model3.max_phone = Constraint(expr = model3.y2 <= 14000)\n",
    "model3.max_laptop = Constraint(expr = model3.y3 <= 7000)\n",
    "\n",
    "model3.profit = Objective(expr = 5*model3.y1 + 7*model3.y2 + 12*model3.y3, sense=maximize)\n",
    "\n",
    "solver = SolverFactory('glpk')\n",
    "model3.dual = Suffix(direction=Suffix.IMPORT)\n",
    "solver.solve(model3)\n",
    "\n",
    "print(\"Values of y1, y2 and y3: \", model3.y1(), model3.y2(), model3.y3())\n",
    "print(\"Максимальная прибыль с ослабленным ограничением min_laptops: \", model3.profit())"
   ]
  },
  {
   "cell_type": "markdown",
   "metadata": {},
   "source": [
    "Видим, что прибыль выросла, но не так сильно, как после изменения ограничения storage на размер хранилища. Таким образом показали, что именно ограничение storage на размер хранилища наиболее сильно влияет на максимальную прибыль\n",
    "\n",
    "**<u>Ответ:</u>** задача поставлена, решена с помощью pyomo, а также сделаны выводы о наболее влиющем на максимальную прибыль ограничений с помощью анализа чувствительности: ослабление ограничения на размер места хранения товаров влияет в наибольшей степени."
   ]
  },
  {
   "cell_type": "markdown",
   "metadata": {},
   "source": [
    "## №2\n",
    "\n",
    "$x^*=(7/3, 0, 1/3)^T - $ проверить на оптимальность\n",
    "\n",
    "Сразу умножим целевую функцию на $-1$, чтобы воспользоваться достаточным условием оптимальности вершины симплекса в формулировке, данной на занятии. Также умножим на $-1$ условие неотрицательности, чтобы в дальнейшем удобно выписать матрицу ограничений $A$. Решаемая задача такая:\n",
    "\n",
    "$$\n",
    "\\begin{cases} -9x_1-3x_2-7x_3\\longrightarrow \\displaystyle{\\min_x} \\\\ \n",
    "2x_1+x_2+3x_3\\leq6 \\\\\n",
    "5x_1+4x_2+x_3\\leq12 \\\\\n",
    "3x_3\\leq1 \\\\\n",
    "-x_1, -x_2, -x_3 \\leq 0 \\end{cases}\n",
    "$$\n",
    "\n",
    "Заметим, что $x^*$ есть вершина симплекса (одна из), т.к. ограничения $\\begin{cases} 5x_1+4x_2+x_3\\leq12 \\\\ 3x_3\\leq1 \\\\ -x_2\\leq 0 \\end{cases}$ в этой точке выполнены как равенства.\n",
    "\n",
    "Все ограничения: $Ax\\leq b$, где $A = \\begin{pmatrix}\n",
    "2 & 1 & 3\\\\\n",
    "5 & 4 & 1\\\\\n",
    "0 & 0 & 3\\\\\n",
    "-1 & 0 & 0\\\\\n",
    "0 & -1 & 0\\\\\n",
    "0 & 0 & -1\n",
    "\\end{pmatrix}$ и $b = \\begin{pmatrix} 6 \\\\ 12 \\\\ 1 \\\\ 0 \\\\ 0 \\\\ 0  \\end{pmatrix}$.\n",
    "\n",
    "Базис $B$, задающий угловую точку $x^*$, получаетс такой: $B = \\{ 2, 3, 5 \\}$. Он является допустимым, так как угловая точка $x^*$ удовлетворяет всем остальным ограничениям.\n",
    "\n",
    "Подматрица и подвектор, соответствующие базису $B$: $A_B = \\begin{pmatrix} 5 & 4 & 1 \\\\ 0 & 0 & 3 \\\\ 0 & -1 & 0 \\end{pmatrix} \\Rightarrow A_B^{-1} = \\dfrac{1}{15} \\begin{pmatrix} 3 & -1 & 12 \\\\ 0 & 0 & -15 \\\\ 0 & 5 & 0 \\end{pmatrix}$, $b_B = \\begin{pmatrix} 12 \\\\ 1 \\\\ 0 \\end{pmatrix}$.\n",
    "\n",
    "Коэффициенты разложения $\\lambda_B=A_B^{-T}\\cdot c$, где $c = \\begin{pmatrix} -9 \\\\ -3 \\\\ -7 \\end{pmatrix} - $ вектор градиента целевой *минимизируемой* функции.\n",
    "\n",
    "После пермножения имеем: $\\lambda_B = \\dfrac{1}{15} \\begin{pmatrix} -27 \\\\ -16 \\\\ -63 \\end{pmatrix}$.\n",
    "\n",
    "$\\lambda_B \\preceq 0 \\Rightarrow x^* = (7/3, 0, 1/3)^T - $ решение данной задачи линейного программирования.\n",
    "\n",
    "**<u>Ответ:</u>** доказали оптимальность точки."
   ]
  },
  {
   "cell_type": "markdown",
   "metadata": {},
   "source": [
    "## №3\n",
    "\n",
    "$\\begin{cases} x_1-x_2 \\longrightarrow \\displaystyle{\\min_x} \\\\ 2x_1+x_2\\geq 3 \\\\ 3x_1-x_2\\leq 7 \\\\ x_1\\geq 0 \\ \\end{cases}$ нужно преобразовать к стандартному виду.\n",
    "\n",
    "Заметим, что нет условия неотрицательности на $x_2\\Rightarrow$ введём две неотрицательные перменные, композиция которых будет задавать переменную $x_2$, при этом никак не ограничивая её знак: $x_2 = x_2^+ - x_2^-$, где $x_2^+, x_2^- \\geq 0$. Тогда:\n",
    "\n",
    "$$\\begin{cases} x_1-x_2^+ + x_2^- \\longrightarrow \\displaystyle{\\min_x} \\\\ 2x_1+x_2^+-x_2^-\\geq 3 \\\\ 3x_1-x_2^+ +x_2-\\leq 7 \\\\ x_1, x_2^+, x_2^-\\geq 0 \\ \\end{cases}$$\n",
    "\n",
    "Осталось преобразовать неравенства к равенствам. В первом стоит знак $\\leq$, значит от левой части этого ограничения надо отнять что-то положительное (новая перменная $x_3$). Во втором ограничении наоборот, прибавить что-то положительное. Тогда:\n",
    "\n",
    "$\\begin{cases} 2x_1+x_2^+-x_2^--x_3=3 \\\\ 3x_1-x_2^++x2^-+x_4=7 \\end{cases} \\Leftrightarrow \\begin{cases} 2x_1+x_2^+-x_2^--x_3-0\\cdot x_4=3 \\\\ 3x_1-x_2^++x2^-+0\\cdot x_3+x_4=7 \\end{cases} \\Leftrightarrow Ax = b$.\n",
    "\n",
    "Тут $A = \\begin{pmatrix} 2 & 1 & -1 & -1 & 0 \\\\ 3 & -1 & 1 & 0 & 1 \\end{pmatrix}, b = \\begin{pmatrix} 3 \\\\ 7 \\end{pmatrix}, x = (x_1, x_2^+, x_2^-, x_3, x_4)^T \\in \\mathbb{R}^5$.\n",
    "\n",
    "$x_1, x_2^+, x_2^-, x_3, x_4 \\geq 0 \\Leftrightarrow x \\geq 0$.\n",
    "\n",
    "Целевая функция: $x_1 - x_2^+ + x_2^- + 0\\cdot x_3 + 0\\cdot x_3 = c^Tx \\Leftrightarrow c = (1, -1, 1, 0, 0)^T \\in \\mathbb{R}^5$.\n",
    "\n",
    "Итого пришли к задаче:\n",
    "\n",
    "$$\n",
    "\\begin{cases} c^Tx \\longrightarrow \\displaystyle{\\min_{x\\in\\mathbb{R}^5}} \\\\ Ax=b \\\\ x\\geq 0 \\end{cases},\n",
    "$$\n",
    "\n",
    "где $ c = (1, -1, 1, 0, 0)^T, \\ x = (x_1, x_2^+, x_2^-, x_3, x_4)^T, \\ A = \\begin{pmatrix} 2 & 1 & -1 & -1 & 0 \\\\ 3 & -1 & 1 & 0 & 1 \\end{pmatrix}, b = \\begin{pmatrix} 3 \\\\ 7 \\end{pmatrix}$.\n",
    "\n",
    "\n",
    "**<u>Ответ:</u>** перешли к каноническому виду."
   ]
  },
  {
   "cell_type": "markdown",
   "metadata": {},
   "source": [
    "## №4\n",
    "\n",
    "Домножим макисимзируемую фуннкцию на $-1$, чтобы она  стала минимизируемой. Задача ЛП теперь такая:\n",
    "\n",
    "$\\begin{cases} -4x_1-5x_2-5x_3 \\longrightarrow \\displaystyle{\\min_{x\\in\\mathbb{R}^3}} \\\\ 2x_1-x_2+2x_3\\leq 9 \\\\ 3x_1+5x_2+4x_3\\leq8 \\\\ x_1+x_2+2x_3\\leq2 \\\\ x_1, x_2, x_3 \\geq 0 \\end{cases}$\n",
    "\n",
    "Нужно найти оптимальное решение симплекс-методом, а также решить двойственную задачу.\n",
    "\n",
    "Задачу разрешено решать програмно на Python. Воспользуемся, также как и в №1 библиотекой pyomo. Солвер GLPK по умолчанию использует симплекс-метод. В следующей ячейке приведём всю программу сразу:"
   ]
  },
  {
   "cell_type": "code",
   "execution_count": 120,
   "metadata": {},
   "outputs": [
    {
     "name": "stdout",
     "output_type": "stream",
     "text": [
      "x_opt = (1.0, 1.0, 0.0)\n",
      "Оптимальное значение -f(x): 9.0\n"
     ]
    }
   ],
   "source": [
    "from pyomo.environ import *\n",
    "\n",
    "model = ConcreteModel()  # создали модель\n",
    "\n",
    "# задаём переменные\n",
    "model.x1 = Var(within=NonNegativeReals)\n",
    "model.x2 = Var(within=NonNegativeReals)\n",
    "model.x3 = Var(within=NonNegativeReals)\n",
    "\n",
    "# задаём целевой функционал\n",
    "model.obj = Objective(expr = 4*model.x1 + 5*model.x2 + 4*model.x3, sense=maximize)\n",
    "\n",
    "# задаём ограничения\n",
    "model.con1 = Constraint(expr = 2*model.x1 - model.x2 + 2*model.x3 <= 9)\n",
    "model.con2 = Constraint(expr = 3*model.x1 + 5*model.x2 + 4*model.x3 <= 8)\n",
    "model.con3 = Constraint(expr = model.x1 + model.x2 + 2*model.x3 <= 2)\n",
    "\n",
    "# решение модели солвером GLPK\n",
    "SolverFactory('glpk').solve(model)\n",
    "\n",
    "# результат\n",
    "print(f\"x_opt = ({model.x1.value}, {model.x2.value}, {model.x3.value})\")\n",
    "print(\"Оптимальное значение -f(x):\", model.obj())"
   ]
  },
  {
   "cell_type": "markdown",
   "metadata": {},
   "source": [
    "Программа выдала ответ $x^* = (1, 1, 0)^T$ для оптимизационной переменной. Для функции $-f(x)$ оптимальное значение равно $-9$, тогда оптимальное значение в исходное задаче (для максимизации): $f(x)=9$. Проверим на всякий случай на оптимальность это решение, но уже вручную, закрепив тем самым метод проверки оптимальности из №2.\n",
    "\n",
    "Выданная оптимальная точка является угловой для 2, 3 и 6 ограничений. Подматрица $A_B$ в этом случае $A_B = \\begin{pmatrix} 3 & 5 & 4 \\\\ 1 & 1 & 2 \\\\ 0 & 0 & -1 \\end{pmatrix}$. Обратная к ней матрица $A_B^{-T} = \\dfrac{1}{2} \\begin{pmatrix} -1 & 1 & 0 \\\\ 5 & -3 & 0 \\\\ 6 & -2 & -2 \\end{pmatrix}$. Вектор градиента в задаче минимизации $c = \\begin{pmatrix} -4 \\\\ -5 \\\\ -5 \\end{pmatrix}$.\n",
    "\n",
    "Тогда коэффициенты разложения: $\\lambda_B = A_B^{-T}\\cdot c = \\begin{pmatrix} -\\frac{1}{2} \\\\ -\\frac{5}{2} \\\\ -2 \\end{pmatrix} \\preceq 0 \\Rightarrow$ это действительно оптимальная точка."
   ]
  },
  {
   "cell_type": "markdown",
   "metadata": {},
   "source": [
    "Для решения двойственной задачи воспользуемся также библиотекой pyomo, взяв за основу решение исходной задачи. Можно сразу получать значения двойственных переменных. Об можно узнать из документации. Ссылка на документацию с примерами, взятыми за основу: https://pyomo.readthedocs.io/en/stable/pyomo_modeling_components/Suffixes.html "
   ]
  },
  {
   "cell_type": "code",
   "execution_count": 121,
   "metadata": {},
   "outputs": [
    {
     "name": "stdout",
     "output_type": "stream",
     "text": [
      "Двойственные значения для каждого из ограничений:\n",
      "con1 : 0.0\n",
      "con2 : 0.5\n",
      "con3 : 2.5\n"
     ]
    }
   ],
   "source": [
    "solver = SolverFactory('glpk')\n",
    "model.dual = Suffix(direction=Suffix.IMPORT)  # создаём суффикс объекта для хранения двойственых переменных\n",
    "solver.solve(model)  # ещё раз прогоняем решения\n",
    "\n",
    "print(\"Двойственные значения для каждого из ограничений:\")\n",
    "for c in model.component_objects(Constraint, active=True):\n",
    "    for index in c:\n",
    "        print(c, \":\",  model.dual[c[index]])"
   ]
  },
  {
   "cell_type": "markdown",
   "metadata": {},
   "source": [
    "Таким образом мы получили решение двойственной задачи: $\\ \\nu^* = (0, -1/2, -5/2)^T$. Множители Лагранжа, соответствующие ограничениям неотрицательности переменных здесь не приведены,но нужно помнить о том, что размерность двойственных переменных тут всё-таки равна 6 (просто решение не чувствительно к множителям Лагранжа, соответствующим ограничениям неотрицательности переменных). Почему это именно так, будет понятно дальше.\n",
    "\n",
    "Для того, чтобы понять есть сильная двойственность или нет, нужно явно выписивать двойственную функцию и подставить в неё значение $\\nu^*$.\n",
    "\n",
    "Лагранжиан исходной задачи: $L = -4x_1-5x_2-5x_3+\\nu_1(2x_1-x_2+2x_3-9)+\\nu_2(3x_1+5x_2+4x_3-8)+\\nu_3(x_1+x_2+2x_3-2)+\\nu_4(-x_1)+\\nu_5(-x_2)+\\nu_6(-x_3)$. \n",
    "\n",
    "Линейная по $x_1, x_2, x_3$ часть Лагранжиана должна быть приравнена к нулю, ибо у Лагранжиана тогда при этом не будет коненчного минимума, что приведёт к неопределённости двойственной функции.\n",
    "\n",
    "Убрав все такие слагаемые получаем двойственную функцию, которая, обратите внимание, завсит только от первых трёх множителей Лагранжа (последние 3 входили в состав линейной по исходным переменным части Лагранжиана): $\\boxed{g(\\nu)=g(\\nu_1, \\nu_2, \\nu_3)=\\displaystyle{\\min_{x_1, x_2, x_3}L}=-9\\nu_1-8\\nu_2-2\\nu_3}$. \n",
    "\n",
    "Независимость этой функции от множителей Лагранжа, соответствующим ограничениям неотрицательности исходных переменных в исходной задаче, и объясняет то, почему эти ограничения не учавствуют в чувстивтельности оптимального решения.\n",
    "\n",
    "Теперь, собвственнно, проверим двойственность, подставив полченное солвером решение $\\nu^* = (0, -1/2, -5/2)^T$ в функцию $g$: \n",
    "\n",
    "$$g(\\nu^*)=-9\\cdot0+8\\cdot\\frac{1}{2}+2\\cdot\\frac{5}{2}=9=d^*$$\n",
    "\n",
    "При решении исходной задачи мы получили $f(x^*)=9=p^*$. Следовательно, $p^*=d^*=9\\Rightarrow$ имеет место сильная двойственность.\n",
    "\n",
    "**<u>Ответ:</u>** $x^* = (1, 1, 0)^T-$ решение исходной задачи, $\\ \\nu^* = (0, -1/2, -5/2)^T-$ решение двойственной задачи; есть сильная двойственность."
   ]
  }
 ],
 "metadata": {
  "kernelspec": {
   "display_name": "Python 3",
   "language": "python",
   "name": "python3"
  },
  "language_info": {
   "codemirror_mode": {
    "name": "ipython",
    "version": 3
   },
   "file_extension": ".py",
   "mimetype": "text/x-python",
   "name": "python",
   "nbconvert_exporter": "python",
   "pygments_lexer": "ipython3",
   "version": "3.12.0"
  }
 },
 "nbformat": 4,
 "nbformat_minor": 2
}
