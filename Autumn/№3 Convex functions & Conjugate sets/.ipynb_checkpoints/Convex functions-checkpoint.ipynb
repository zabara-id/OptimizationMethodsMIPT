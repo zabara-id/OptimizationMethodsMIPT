{
 "cells": [
  {
   "cell_type": "markdown",
   "id": "67352b1d",
   "metadata": {},
   "source": [
    "# Convex functions (part 1)\n",
    "### Забара Илья"
   ]
  },
  {
   "cell_type": "markdown",
   "id": "b1b97f9a",
   "metadata": {},
   "source": [
    "## №1\n",
    "\n",
    "$f(x)=x^d$\n",
    "\n",
    "**<u>Реш.</u>**\n",
    "\n",
    "**1)** $f(x)=\\dfrac{1}{x^2}, \\ x\\in\\mathbb{R}_{++}$\n",
    "\n",
    "$epif=\\{[x, \\mu]\\in\\mathbb{R}_{++}\\times\\mathbb{R}:f(x)\\leqslant\\mu\\}-выпуклое \\ (геометрически очевидно)\\Rightarrow\\dfrac{1}{x^2} \\ выпуклая$\n",
    "\n",
    "$epi(-f)-вогнутое\\Rightarrow -\\dfrac{1}{x^2}$\n",
    "\n",
    "$f(\\lambda x_1+(1-\\lambda)x_2)\\leqslant\\lambda f(x_1)+(1-\\lambda)f(x_2) \\ \\forall x_1 > x_2 \\ (н.у.о), \\ т.к. \\ функция \\ строго \\ возрастающая \\Rightarrow f(x) \\ строго \\  выпуклая$\n",
    "\n",
    "$f_{xx}=\\dfrac{6}{x^4}$. $Критерий \\ 2 \\ порядка: \\ \\dfrac{6}{x^4}\\geqslant\\mu, \\ т.е. \\ выбор \\ \\mu \\ зависит \\ от \\ x, \\ что \\ значит, \\ что \\ \\mu\\neq const, \\ что \\ противоречит \\ определению \\Rightarrow\\dfrac{1}{x^2} \\ не \\ сильно \\ выпуклая.$\n",
    "\n",
    "**2)** $f(x)=\\dfrac{1}{x}$\n",
    "\n",
    "Эта функция, аналогично п.1, выпуклая, не вогнутая, а также строго выпуклая. И тут также $f_{xx}$ будет зависеть от x, что будет противоречить определению константы сильной выпуклости.\n",
    "\n",
    "**3)** $f(x)=x^0=1$. Это линейная ф-я, для которой неравенство Йенсена переходит в равенство. Ссылаясь на семинар, можно утверждать, что она выпуклая и вогнутая одновременно. Строгой выпуклости, очевидно, нет. Дифференциальный критерий 2-го порядка будет работать только в случае $\\mu = 0$, что также противоречит определению $\\mu$.\n",
    "\n",
    "**4)** $f(x)=\\sqrt{x}$\n",
    "\n",
    "Геометрически $epi\\sqrt{x}-$ вогнутое мн-во $\\Rightarrow\\sqrt{x}-$ вогнутая функция.\n",
    "\n",
    "**5)** $f(x)=x^1=x$\n",
    "\n",
    "Аналогично п.3 функция выпуклая и вогнутая одновременно.\n",
    "\n",
    "**6)** $f(x)=x^d, \\ d\\in (1;2)$\n",
    "\n",
    "$epif^d-$ выпуклое мн-во $\\Rightarrow f^d$ выпуклая. Аналогично предыдущим пунктам, также имеет место строгая выпуклость. Для разнообразия попробуем применитт критерий 1-го порядка и показать, что на заданной области определения оон выполнен не будет.\n",
    "\n",
    "$f_x(x_0)=dx_0^{d-1}$\n",
    "\n",
    "$\\Delta f\\geqslant dx_0^{d-1}\\Delta x + \\mu\\|\\Delta x\\|^2\\Rightarrow\\mu\\|\\Delta x\\|^2\\leqslant x^d-xx_0^{d-1}d+x_0^{d}(d-1)$\n",
    "\n",
    "Если в качестве приаера взять $d=1,5$, то правая часть неравенства становится отрицательной при определённых значениях $x$ и $x_0$ из области определения. Это противоречит определению константы сильной выпуклости.\n",
    "\n",
    "**7)** Парабола обладает всеми типами выпуклости (это обсуждалось на семинаре). Вторая производная в этом случае это просто положительная константа, что удовлетворяет критерию 2-го порядка.\n",
    "\n",
    "**8)** $f(x)=x^d, \\ d>2$\n",
    "\n",
    "Тут, аналогично предыдущим пунктам, получим зависящую от аргумента вторую производную, что не даст нам сделать вывод о сильной выпуклости функции.\n",
    "\n",
    "Итого, имеем такую таблицу:\n",
    "\n",
    "![](tt.jpg)"
   ]
  },
  {
   "cell_type": "markdown",
   "id": "64c5e29f",
   "metadata": {},
   "source": [
    "   "
   ]
  },
  {
   "cell_type": "markdown",
   "id": "84e4c142-1cc3-4858-80cf-485f6119f4c6",
   "metadata": {},
   "source": [
    "## №2\n",
    "\n",
    "$f(x)=-\\displaystyle{\\sum_{i=1}^{n}}x_ilnx_i. \\ dom(f)=\\{x\\in\\mathbb{R}_{++}:\\displaystyle{\\sum_{i=1}^{n}}x_i=1$ строго выпуклая?\n",
    "\n",
    "**<u>Реш.</u>** \n",
    "\n",
    "$-df_i=d(x_ilnx_i)=lnx_idx_i+x_i\\dfrac{dx_i}{x_i}=(lnx_i+1)dx_i$\n",
    "\n",
    "$-d^2f_i=d(df_i)=\\dfrac{1}{x_i}dx_idx_i$\n",
    "\n",
    "$-H_{f_{ii}}-$ диагональная матрица Гесса\n",
    "\n",
    "$y^TH_{f}y=\\displaystyle{\\sum_{i=1}^{n}}\\dfrac{1}{x_i}y_i^2>0-$ из условия $\\Rightarrow -f(x)$ строго выпуклая $\\Rightarrow f(x)-$ строго вогнутая.\n",
    "\n",
    "**<u>Ответ:</u>** доказано."
   ]
  },
  {
   "cell_type": "markdown",
   "id": "0bc627cb-2c7e-46f8-a381-40faa4f5262d",
   "metadata": {},
   "source": [
    "## №3\n",
    "\n",
    "$f(x)=-\\displaystyle{\\prod_{i=1}^{n}}x_i^{\\alpha_i}; \\ \\displaystyle{\\sum_{i=1}^{n}}\\alpha_i=1; \\, \\ \\alpha_i\\geqslant 0 \\ \\, \\ \\forall i\\in[1, ..., n], \\ \\ x\\in\\mathbb{R}_{++}^n$\n",
    "\n",
    "**<u>Реш.</u>** \n",
    "\n",
    "**1)** Найдём градиент функции $-f(x)$.\n",
    "\n",
    "$-df=\\displaystyle{\\sum_{i=1}^{n}}\\displaystyle{\\prod_{j=1, j\\neq i}^{n}}x_j^{\\alpha_j}x_i^{\\alpha_i-1}\\alpha_idx_i=\\displaystyle{\\sum_{i=1}^{n}}\\displaystyle{\\prod_{j=1, j\\neq i}^{n}}x_j^{\\alpha_j}x_i^{\\alpha_i-1}\\alpha_i\\cdot\\dfrac{x_i}{x_i}dx_i=\\displaystyle{\\sum_{i=1}^{n}}\\displaystyle{\\prod_{j=1, j\\neq -i}^{n}}x_j^{\\alpha_j}x_j^{\\alpha_j}x_i^{\\alpha_i}\\cdot\\dfrac{\\alpha_i}{x_i}=\\displaystyle{\\sum_{i=1}^{n}}\\displaystyle{\\prod_{j=1}^{n}}x_j^{\\alpha_j}x_i^{\\alpha_i}\\dfrac{\\alpha_i}{x_i}dx_i=\\dfrac{\\alpha}{x}dx(-f(x))$,  где $\\dfrac{\\alpha}{x}-$ поэлементное деление вектора степеней на вектор аргумента.\n",
    "\n",
    "$-d^2f=d(-df)=d\\left(\\dfrac{\\alpha}{x}dx_1(-f(x))\\right)dx_1dx=\\left(d\\left(\\dfrac{\\alpha}{x}\\right)(-f(x))+\\dfrac{\\alpha}{x}d(-f(x))\\right)dx_1=\\left( -diag\\left( \\dfrac{\\alpha_i}{x_i^2} \\right) + \\dfrac{\\alpha}{x} \\left( \\dfrac{\\alpha}{x} \\right)^T\\right)(-f(x))dx_1dx$\n",
    "\n",
    "$\\Rightarrow H_f=\\left( -diag\\left( \\dfrac{\\alpha_i}{x_i^2} \\right) + \\dfrac{\\alpha}{x} \\left( \\dfrac{\\alpha}{x} \\right)^T\\right)(-f(x))$\n",
    "\n",
    "**2)** Для выпуклости нужно чтобы $H_f\\succeq0$. Рассмотрим произвольный вектор $y$ из множества, тогда нужно, чтобы $y^TH_fy\\geqslant0$\n",
    "\n",
    "$y^TH_fy\\geqslant0\\Leftrightarrow \\left(y^Tdiag\\left( \\dfrac{\\alpha_i}{x_i^2} \\right) y-y^T\\left( \\dfrac{\\alpha}{x} \\left( \\dfrac{\\alpha}{x} \\right)^T \\right)y\\right)(-f(x))\\geqslant0$\n",
    "\n",
    "Т.к. $-f(x)\\geqslant0$, то неравентво эквивалентно следующему:\n",
    "\n",
    "$y^Tdiag\\left( \\dfrac{\\alpha_i}{x_i^2} \\right) y\\geqslant y^T\\left( \\dfrac{\\alpha}{x} \\left( \\dfrac{\\alpha}{x} \\right)^T \\right)y\\Leftrightarrow\\displaystyle{\\sum_{i=1}^{n}}y_i^2\\dfrac{\\alpha_i}{x_i^2}\\geqslant\\left(\\displaystyle{\\sum_{i=1}^{n}}\\dfrac{y_i}{x_i}\\alpha_i\\right)\\Leftrightarrow\\displaystyle{\\sum_{i=1}^{n}}\\alpha_i\\geqslant\\left( \\displaystyle{\\sum_{i=1}^{n}}\\alpha_i \\right)^2\\Leftrightarrow 1\\geqslant 1^2$, ч.т.д.\n",
    "\n",
    "**<u>Ответ:</u>** доказано."
   ]
  },
  {
   "cell_type": "markdown",
   "id": "8551fa25-5e0e-4f4a-adae-75f07edee45e",
   "metadata": {},
   "source": [
    "## №4\n",
    "\n",
    "$P=conv(v_1, ..., v_n); \\ \\displaystyle{\\sup_{x\\in P}(f(x))=\\max_{i=1,...,n}(f(v_i))}$ ?\n",
    "\n",
    "**<u>Реш.</u>** От противного. Пусть максимум достигается не в вершинах выпуклой оболочки, а на каком-то $u=\\displaystyle{\\sum_{i=1}^n}\\theta_iv_i$, где $\\displaystyle{\\sum_{i=1}^n}\\theta_i=1, \\ \\theta_i\\geqslant0$. Очевидно, $u$ лежит внутри $P$.\n",
    "\n",
    "По условию $f-$ выпуклая $\\Rightarrow$ значит, в т.ч. для $u$ справедливо неравенство Йенсена:\n",
    "\n",
    "$f(\\displaystyle{\\sum_{i=1}^n}\\theta_iv_i)\\leqslant\\displaystyle{\\sum_{i=1}^n}\\theta_if(v_i)<\\displaystyle{\\sum_{i=1}^n}\\theta_if(u)$, т.к. в $u$ у нас максимум по предположению.\n",
    "\n",
    "Итого, имеем $f(u)<(\\theta_1+...+\\theta_n)f(v)$. Это возможно только когда $\\displaystyle{\\sum_{i=1}^n}\\theta_i>1$, противоречие $\\Rightarrow \\displaystyle{\\sup_{x\\in P}(f(x))=\\max_{i=1,...,n}(f(v_i))}$.\n",
    "\n",
    "**<u>Ответ:</u>** $\\displaystyle{\\sup_{x\\in P}(f(x))=\\max_{i=1,...,n}(f(v_i))}$."
   ]
  },
  {
   "cell_type": "markdown",
   "id": "381698e5-5954-41d1-a2f7-8e73b6a5dde6",
   "metadata": {},
   "source": [
    "## №5\n",
    "\n",
    "$f(x)-\\mu$ сильно выпуклая $\\Leftrightarrow\\forall x_1, x_2\\in S, \\ \\ \\forall\\lambda\\in[0,1], \\ \\ \\mu>0: f(\\lambda x_1+(1-\\lambda)x_2)\\leqslant\\lambda f(x_1)+(1-\\lambda)f(x_2)-\\mu\\lambda(1-\\lambda)\\|x_1-x_2\\|^2$\n",
    "\n",
    "$f(x)-\\mu$ сильно выпуклая $\\Leftrightarrow\\exists\\mu>0:g(x)=f(x)-\\dfrac{\\mu}{2}\\|x\\|^2$\n",
    "\n",
    "Показать эквивалентность определений.\n",
    "\n",
    "**<u>Реш.</u>** \n",
    "\n",
    "**1)** Из второго докажем первое.\n",
    "\n",
    "$g(x)$ выпуклая, если $g(\\lambda x_1+(1-\\lambda)x_2)\\leqslant\\lambda g(x_1)+(1-\\lambda)g(x_2)$\n",
    "\n",
    "$f(\\lambda x_1+(1-\\lambda)x_2)-\\dfrac{\\mu}{2}\\|\\lambda x_1+(1-\\lambda)x_2\\|^2\\leqslant\\lambda f(x_1)-\\lambda\\dfrac{\\mu}{2}\\|x_1\\|+(1-\\lambda)f(x_2)-(1-\\lambda)\\dfrac{\\mu}{2}\\|x_2\\|^2$\n",
    "\n",
    "$f(\\lambda x_1+(1-\\lambda)x_2)\\leqslant\\lambda f(x_1)+(1-\\lambda)f(x_2)+\\dfrac{\\mu}{2}(\\|\\lambda x_1+(1-\\lambda)x_2)\\|^2-\\lambda\\|x_1\\|^2-(1-\\lambda)\\|x_2\\|^2)$\n",
    "\n",
    "Нетрудно алгебраически показать, что $\\|\\lambda x_1+(1-\\lambda)x_2)\\|^2-\\lambda\\|x_1\\|^2-(1-\\lambda)\\|x_2\\|^2=-\\lambda(1-\\lambda)\\|x_1-x_2\\|^2$. Таким образом:\n",
    "\n",
    "$f(\\lambda x_1+(1-\\lambda)x_2)\\leqslant\\lambda f(x_1)+(1-\\lambda)f(x_2)-\\dfrac{\\mu}{2}\\lambda(1-\\lambda)\\|x_1-x_2\\|^2$\n",
    "\n",
    "Это эквивалентно первому определению (можно для 1-го взять $\\mu_1=\\dfrac{\\mu_2}{2}$).\n",
    "\n",
    "**2)** Алгебраические преобразования неравенств в 1-м пункте равносильны и верны в обе стороны, поэтому автоматически из 1 следует 2.\n",
    "\n",
    "**<u>Ответ:</u>** доказано."
   ]
  },
  {
   "cell_type": "code",
   "execution_count": null,
   "id": "c11fa67d",
   "metadata": {},
   "outputs": [],
   "source": []
  },
  {
   "cell_type": "code",
   "execution_count": null,
   "id": "8aa2c413",
   "metadata": {},
   "outputs": [],
   "source": []
  },
  {
   "cell_type": "code",
   "execution_count": null,
   "id": "0b6f36a6",
   "metadata": {},
   "outputs": [],
   "source": []
  },
  {
   "cell_type": "code",
   "execution_count": null,
   "id": "468dc8e9",
   "metadata": {},
   "outputs": [],
   "source": []
  },
  {
   "cell_type": "code",
   "execution_count": null,
   "id": "652b7567",
   "metadata": {},
   "outputs": [],
   "source": []
  },
  {
   "cell_type": "code",
   "execution_count": null,
   "id": "265d0bdc",
   "metadata": {},
   "outputs": [],
   "source": []
  },
  {
   "cell_type": "code",
   "execution_count": null,
   "id": "c37ec1b0",
   "metadata": {},
   "outputs": [],
   "source": [
    ")"
   ]
  }
 ],
 "metadata": {
  "kernelspec": {
   "display_name": "Python 3 (ipykernel)",
   "language": "python",
   "name": "python3"
  },
  "language_info": {
   "codemirror_mode": {
    "name": "ipython",
    "version": 3
   },
   "file_extension": ".py",
   "mimetype": "text/x-python",
   "name": "python",
   "nbconvert_exporter": "python",
   "pygments_lexer": "ipython3",
   "version": "3.10.6"
  }
 },
 "nbformat": 4,
 "nbformat_minor": 5
}
