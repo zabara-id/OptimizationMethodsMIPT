{
 "cells": [
  {
   "cell_type": "markdown",
   "id": "3136f00f-8d23-4182-ae1d-5bc57329839f",
   "metadata": {},
   "source": [
    "# Conjugate sets (part 2)\n",
    "### Забара Илья"
   ]
  },
  {
   "cell_type": "markdown",
   "id": "7b617e04-f62c-4816-bbeb-c2abbcd4cbcf",
   "metadata": {},
   "source": [
    "## №1\n",
    "\n",
    "$\\mathbb{A}_n-$ мн-во антисимметричных матриц размера n. Показать, что $(\\mathbb{A}_n)^*=\\mathbb{S}_n$.\n",
    "\n",
    "**<u>Реш.</u>** Пусть матрица $A=-A^T$ и $S^T=S$.\n",
    "\n",
    "Рассмотрим $tr(AS)=tr(-A^TS)=-tr(S^TA^T)$\n",
    "\n",
    "$tr(S^TA^T)=tr((AS)^T)=tr(AS)\\Rightarrow tr(AS)=-tr(AS)\\Leftrightarrow tr(AS)=0$.\n",
    "\n",
    "Т.е. получили $\\langle A, S \\rangle = 0 \\geqslant -1 $ для таких матриц.\n",
    "\n",
    "Имеем $\\langle A, S \\rangle \\geqslant -1, \\ \\ \\forall S\\in\\mathbb{S}_n$, что есть подтверждение того, что $(\\mathbb{A}_n)^*=\\mathbb{S}_n$.\n",
    "\n",
    "**<u>Ответ:</u>** доказано."
   ]
  },
  {
   "cell_type": "markdown",
   "id": "7af13745-ef26-43da-a04d-1ba83b4386b1",
   "metadata": {},
   "source": [
    "## №2\n",
    "\n",
    "$S=\\{x\\in\\mathbb{R}^2:x_1+x_2\\geqslant0, \\ -\\dfrac{1}{2}x_1+x_2\\geqslant0, \\ 2x_1+x_2\\geqslant-1, \\ -2x_1+x_2\\geqslant-3\\}$\n",
    "\n",
    "$S^*, S^{**}, S^{***}-\\ ?$\n",
    "\n",
    "**<u>Реш.</u>** \n",
    "\n",
    "**1)** Изобразим это множество:\n",
    "\n",
    ".\n",
    "\n",
    ".\n",
    "\n",
    ".\n",
    "\n",
    ".\n",
    "\n",
    ".\n",
    "\n",
    ".\n",
    "\n",
    ".\n",
    "\n",
    ".\n",
    "\n",
    ".\n",
    "\n",
    ".\n",
    "\n",
    ".\n",
    "\n",
    ".\n",
    "\n",
    "Это мн-во выпукло, замкнуто и содержит нуль. Тогда $S^{**}=S$ и, соответственно, $S^{***}=(S^{**})^*=S^*$. Т.е. найти надо только $S^*$. S замкнуто, т.к. содержит все свои предельные точки.\n",
    "\n",
    "**2)** Есть теорема, гласящая о том, что если мн-во представляется как сумма Минковского выпуклой оболочки и конической оболочки, то их сопряженное мн-во может быть найдено как:\n",
    "$$\n",
    "S^*=\\{y\\in\\mathbb{R}^n:\\langle p, x_i\\rangle\\geqslant-1, \\ i\\in[1,k]; \\ \\langle p, x_i\\rangle\\geqslant0, \\ i\\in[k+1, m]\\}\n",
    "$$\n",
    "\n",
    "Взглянув на рисунок заметим, что $S=conv\\{ (0,0), (-1,1), (2,2) \\}+cone\\{ (-1,2),(1,2) \\}$. Тогда ответ выписывается автоматически:\n",
    "\n",
    "$$ \\boxed{S = \\{y\\in\\mathbb{R}^2 :\n",
    "\\begin{cases}0\\cdot y_1\n",
    "+ 0\\cdot y_2 \\geqslant -1 &  \\\\-1\\cdot y_1 + 1\\cdot y_2 \\geqslant -1 & \\\\ 2\\cdot y_1 + 1\\cdot y_2 \\geqslant -1 & \\\\\n",
    "-1\\cdot y_1 + 2\\cdot y_2 \\geqslant 0 & \\\\\n",
    "1\\cdot y_1 + 2\\cdot y_2 \\geqslant 0\n",
    "\\end{cases} \\}=S^{***}}$$\n",
    "\n",
    "$$\n",
    "\\boxed{S^{**}=S}\n",
    "$$\n",
    "\n",
    "**<u>Ответ:</u>** в рамках."
   ]
  },
  {
   "cell_type": "code",
   "execution_count": null,
   "id": "ca2b5482-11e6-4d32-b40a-974b8a00a7e8",
   "metadata": {},
   "outputs": [],
   "source": []
  }
 ],
 "metadata": {
  "kernelspec": {
   "display_name": "Python 3 (ipykernel)",
   "language": "python",
   "name": "python3"
  },
  "language_info": {
   "codemirror_mode": {
    "name": "ipython",
    "version": 3
   },
   "file_extension": ".py",
   "mimetype": "text/x-python",
   "name": "python",
   "nbconvert_exporter": "python",
   "pygments_lexer": "ipython3",
   "version": "3.10.6"
  }
 },
 "nbformat": 4,
 "nbformat_minor": 5
}
