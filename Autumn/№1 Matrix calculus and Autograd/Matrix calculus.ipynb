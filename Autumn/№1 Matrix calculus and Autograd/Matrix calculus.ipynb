{
 "cells": [
  {
   "cell_type": "markdown",
   "id": "49817514-5117-43d9-b308-53073498168d",
   "metadata": {},
   "source": [
    "# Matrix calculus (part 1)\n",
    "### Забара Илья"
   ]
  },
  {
   "cell_type": "markdown",
   "id": "4b3d21d0",
   "metadata": {},
   "source": [
    "## №1\n",
    "#### $A_{m\\times n}, x_{n\\times 1}, f(x)=tr(A^TAxx^T)$\n",
    "#### $\\nabla_xf(x)=?$\n",
    "#### <u>Реш.</u> $tr(A^TAxx^T)=\\langle A^TA, xx^T\\rangle$\n",
    "#### $df=d(\\langle A^TA, xx^T\\rangle)=\\langle A^TA, d(xx^T)\\rangle=\\langle A^TA,dxx^T+x(dx)^T\\rangle=\\langle A^TA,dxx^T\\rangle+\\langle A^TA, x(dx)^T\\rangle=\\langle A^TAx, dx\\rangle+\\langle dx, A^TAx\\rangle=\\langle 2A^TAx, dx\\rangle\\Rightarrow \\boxed{\\nabla_xf(x)=2A^TAx}$\n",
    "#### <u>Ответ:</u> $2A^TAx$."
   ]
  },
  {
   "cell_type": "markdown",
   "id": "f7b3ed71",
   "metadata": {},
   "source": [
    "## №2\n",
    "#### $f(x)=\\frac{1}{2}\\|Ax-b\\|^{2}_2$\n",
    "#### $\\nabla f(x)=?, H_f=?$\n",
    "#### <u>Реш.</u> $1)  df=\\frac{1}{2}d(\\|Ax-b\\|^{2}_2)=\\frac{1}{2}d\\langle Ax-b, Ax-b\\rangle=\\langle Ac-b, d(Ax-b)\\rangle=\\langle Ax-b, Adx\\rangle=\\langle A^T(Ax-b), dx\\rangle\\Rightarrow \\boxed{\\nabla f(x)=A^T(Ax-b)}$\n",
    "$2) df=\\langle A^T(Ax-b), dx_1\\rangle$, где $dx\\rightarrow dx_1=const$\n",
    "$d^2f=d(df)=\\langle d(A^TAx-A^Tb), dx_1\\rangle+0=\\langle d(A^TAx), dx_1\\rangle-0=\\langle A^TAdx, dx_1\\rangle=\\langle A^TAdx_1, dx\\rangle\\Rightarrow \\boxed{H_f=A^TA}$\n",
    "#### <u>Ответ:</u> $\\nabla f(x)=A^T(Ax-b)$, $H_f=A^TA$."
   ]
  },
  {
   "cell_type": "markdown",
   "id": "7f501697",
   "metadata": {},
   "source": [
    "## №3\n",
    "#### $f(x)=\\frac{1}{m}\\sum^{m}_{i=1}ln(1+exp(\\langle a_i, x\\rangle))+\\frac{\\mu}{2}\\|x\\|^{2}_2$\n",
    "#### $\\nabla f(x), H_f=?$\n",
    "#### <u>Реш.</u> 1) $\\nabla f=\\nabla_1f+\\nabla_2f$\n",
    "#### $\\nabla_2f=\\nabla (\\frac{\\mu}{2}\\|x\\|^2_2)=\\mu x$\n",
    "#### $\\nabla_1f=\\nabla(\\frac{1}{m}\\sum^m_{i=1}ln(1+exp(\\langle a_i, x\\rangle))=\\frac{1}{m}\\sum^m_{i=1}\\nabla ln(1+exp(\\langle a_i, x\\rangle)$\n",
    "#### $d(ln(1+exp(\\langle a_i, x\\rangle))=\\frac{d(exp\\langle a_i, x\\rangle)}{1+exp(\\langle a_i, x\\rangle}=\\langle\\frac{exp\\langle a_i, x\\rangle a_i}{1+exp(\\langle a_i, x\\rangle}, dx\\rangle\\Rightarrow\\nabla_1f=\\frac{1}{m}\\sum^m_{i=1}\\frac{exp\\langle a_i, x\\rangle a_i}{1+exp(\\langle a_i, x\\rangle}$\n",
    "#### Итого, $\\boxed{\\nabla f=\\frac{1}{m}\\sum^m_{i=1}\\frac{exp\\langle a_i, x\\rangle a_i}{1+exp(\\langle a_i, x\\rangle}+\\mu x}$\n",
    "#### 2) $df=\\left\\langle\\dfrac{1}{m}\\displaystyle\\sum^m_{i=1}\\frac{exp\\langle a_i, x\\rangle a_i}{1+exp(\\langle a_i, x\\rangle}+\\mu x, dx_1\\right\\rangle$, где $dx_1=const$\n",
    "#### $d^2f=d(df)=\\left\\langle d\\left(\\dfrac{1}{m}\\displaystyle\\sum^m_{i=1}\\dfrac{exp\\langle a_i, x\\rangle a_i}{1+exp(\\langle a_i, x\\rangle}+\\mu x\\right), dx_1\\right\\rangle+0$\n",
    "#### $d\\left(\\dfrac{exp\\langle a_i, x\\rangle a_i}{1+exp(\\langle a_i, x\\rangle}\\right)=\\dfrac{(1+exp\\langle a_i, x\\rangle) d(exp\\langle a_i, x\\rangle a_i-exp\\langle a_i, x\\rangle a_id(1+exp\\langle a_i, x\\rangle)}{(1+exp\\langle a_i, x\\rangle)^2}=\\dfrac{a_iexp\\langle a_i, x\\rangle\\langle a_i, dx\\rangle}{(1+exp\\langle a_i, x\\rangle)^2}$\n",
    "#### $d(\\mu x)=\\mu dx$\n",
    "#### $d^2f=\\left\\langle\\dfrac{1}{m}\\displaystyle\\sum^m_{i=1}\\dfrac{a_iexp\\langle a_i, x\\rangle\\langle a_i, dx\\rangle}{(1+exp\\langle a_i, x\\rangle)^2}+\\mu dx, dx_1\\right\\rangle=\\left\\langle\\dfrac{1}{m}\\displaystyle\\sum^m_{i=1}\\dfrac{exp\\langle a_i, x\\rangle}{(1+exp\\langle a_i, x\\rangle)^2}a_ia^T_idx+I\\mu dx, dx_1\\right\\rangle=\\left\\langle\\left(\\dfrac{1}{m}\\displaystyle\\sum^m_{i=1}\\dfrac{exp\\langle a_i, x\\rangle}{(1+exp\\langle a_i, x\\rangle)^2}a_ia^T_i+\\mu I\\right) dx, dx_1\\right\\rangle=\\left\\langle\\left(\\dfrac{1}{m}\\displaystyle\\sum^m_{i=1}\\dfrac{exp\\langle a_i, x\\rangle}{(1+exp\\langle a_i, x\\rangle)^2}a_ia^T_i+\\mu I\\right)dx_1, dx\\right\\rangle$\n",
    "#### $\\Rightarrow \\boxed{H_f=\\dfrac{1}{m}\\displaystyle\\sum^m_{i=1}\\dfrac{exp\\langle a_i, x\\rangle}{(1+exp\\langle a_i, x\\rangle)^2}a_ia^T_i+\\mu I}$\n",
    "#### <u>Ответ:</u> $\\nabla f=\\dfrac{1}{m}\\displaystyle\\sum^m_{i=1}\\dfrac{exp\\langle a_i, x\\rangle a_i}{1+exp(\\langle a_i, x\\rangle}+\\mu x$;  $H_f=\\dfrac{1}{m}\\displaystyle\\sum^m_{i=1}\\dfrac{exp\\langle a_i, x\\rangle}{(1+exp\\langle a_i, x\\rangle)^2}a_ia^T_i+\\mu I$."
   ]
  },
  {
   "cell_type": "markdown",
   "id": "2ded5c00",
   "metadata": {},
   "source": [
    "## №4\n",
    "#### $f(A)=tr(e^A)$\n",
    "#### $\\nabla_Af(A)=?$\n",
    "#### <u>Реш.</u> $df=f(A+dA)-f(A)+o(\\|dA\\|)$, $dA\\rightarrow0$\n",
    "#### $e^A=\\displaystyle\\sum^{\\infty}_{k=0}\\frac{A^k}{k!}$\n",
    "#### Дифференциал $dA$ и матрица $A$ в общем случае не коммутируют, но под функцией следа можно циклически переставлять перемножаемые матрицы, поэтому при нахождении дифференциала следа можно считать, что $de^A=e^AdA$:\n",
    "#### $df=d\\langle I, e^A \\rangle=\\langle I, de^A \\rangle=\\langle I, e^AdA \\rangle=\\langle (e^A)^T, dA \\rangle\\Rightarrow\\boxed{ \\nabla_Af(A)=(e^A)^T}$\n",
    "#### <u>Ответ:<\\u> $\\nabla_Af(A)=(e^A)^T$."
   ]
  },
  {
   "cell_type": "markdown",
   "id": "09358d55",
   "metadata": {},
   "source": [
    "## №5\n",
    "#### В этом номере и далее будет активно использоваться свойство скалярного произведения $\\langle x, Ay\\rangle=\\langle A^Tx, y\\rangle$ или $\\langle x, yB\\rangle=\\langle xB^T, y\\rangle$. Нетрудно показать, что данное свойство справделиво как для скалярного произведения векторов, так и для введённого скалярного произведения матриц.\n",
    "#### $f(x)=\\frac{1}{2}\\|A-xx^T\\|^2_F, A\\in\\mathbb{S}^n$\n",
    "#### $\\nabla f, H_f=?$\n",
    "#### <u>Реш.</u> 1) $f(x)=\\frac{1}{2}\\langle A-xx^T, A-xx^T\\rangle$\n",
    "#### $df=\\langle A-xx^T, d(A-xx^T)\\rangle=-\\langle A-xx^T, d(xx^T)\\rangle=-\\langle A-xx^T,dxx^T+xdx^T\\rangle=-\\langle A-xx^T, dxx^T\\rangle-\\langle A-xx^T, xdx^T\\rangle=-\\langle (A-xx^T)x, dx\\rangle-\\langle (A-xx^T)dx, x\\rangle=-\\langle (A-xx^T)x, dx\\rangle-\\langle dx, (A-xx^T)x\\rangle=\\langle-2(A-xx^T)x, dx\\rangle\\Rightarrow\\boxed{\\nabla f=-2(A-xx^T)x}$\n",
    "#### 2) $df=-\\langle2(A-xx^T)x, dx_1\\rangle$, где $dx1=const$\n",
    "#### $d^2f=d(df)=-2\\langle d((A-xx^T)x), dx_1 \\rangle+0$\n",
    "#### $d((A-xx^T)x)=d(Ax)-d(xx^Tx)=Adx-d(xx^Tx)$\n",
    "#### $d(xx^Tx)=d(xx^T)x+xx^Tdx=(dxx^T+xdx^T)x+xx^Tdx=dxx^Tx+xdx^Tx+xx^Tdx$\n",
    "#### $d((A-xx^T)x))=Adx-dxx^Tx-xdx^Tx-xx^Tdx$\n",
    "#### $d^2f=2\\langle dxx^Tx+xdx^Tx+xx^Tdx-Adx, dx_1 \\rangle=2\\langle dxx^Tx, dx_1 \\rangle + 2\\langle xdx^Tx, dx_1 \\rangle + 2\\langle (xx^T-A)dx, dx_1 \\rangle=2\\langle dx_1, dxx^Tx \\rangle + 2\\langle dx_1, xdx^Tx \\rangle + 2\\langle (xx^T-A)dx, dx_1 \\rangle=2\\langle x^Txdx_1, dx \\rangle + 2\\langle dx^Txdx_1, x \\rangle + 2\\langle (xx^T-A)dx, dx_1 \\rangle= 2\\langle x, x \\rangle\\langle dx_1, dx \\rangle + 2\\langle dx,x \\rangle\\langle dx_1, x \\rangle + 2\\langle (xx^T-A)dx, dx_1 \\rangle=2\\langle Ix^Txdx_1, dx \\rangle + 2\\langle xx^Tdx_1, dx \\rangle + 2\\langle (xx^T-A)dx_1, dx \\rangle=\\langle 2(Ix^Tx+2xx^T-A)dx_1, dx \\rangle$\n",
    "#### $\\Rightarrow\\boxed{H_f=2\\langle x, x \\rangle I+4xx^T-2A}$\n",
    "#### <u>Ответ:</u> $\\nabla f=-2(A-xx^T)x$; $H_f=2\\langle x, x \\rangle I+4xx^T-2A$."
   ]
  },
  {
   "cell_type": "markdown",
   "id": "ed8df4c4",
   "metadata": {},
   "source": [
    "."
   ]
  },
  {
   "cell_type": "markdown",
   "id": "d676d2f3",
   "metadata": {},
   "source": [
    "## №6\n",
    "#### $f:S\\rightarrow\\mathbb{R}$, $f(t)=det(A-tI_n)$, где $A\\in\\mathbb{R}^{n\\times n}$, $S:=t\\in\\mathbb{R}:det(A-tI_n)\\not=0$\n",
    "#### $f', f''=?$\n",
    "#### <u>Реш.</u> 1) $df=d(det(A-tI))=det(A-tI)\\langle (A-tI)^{-T}, d(A-tI) \\rangle=-det(A-tI)\\langle (A-tI)^{-T}, Idt \\rangle=-det(A-tI)\\cdot tr((A-tI)^{-1})dt$\n",
    "#### $\\Rightarrow\\boxed{f'=-det(A-tI)\\cdot tr((A-tI)^{-1})}$\n",
    "#### 2) $df=-det(A-tI)\\cdot tr((A-tI)^{-1})dt$, где $dt_1=const$\n",
    "#### $d^2f=d(df)=-d(det(A-tI)\\langle (A-tI)^{-T}, Idt_1 \\rangle=-\\langle d(det(A-tI)\\langle (A-tI)^{-T}), Idt_1 \\rangle-0$\n",
    "#### $d(det(A-tI)\\langle (A-tI)^{-T}=d(det(A-tI))\\cdot(A-tI)^{-T}+det(A-tI)\\cdot d((A-tI)^{-T})=-det(A-tI)\\cdot tr((A-tI)^{-1})\\cdot dt\\cdot(A-tI)^{-T}+det(A-tI)\\cdot(-(A-tI)^{-T}\\cdot d(A-tI)^T\\cdot(A-tI)^{-T})=-det(A-tI)\\cdot tr((A-tI)^{-1})\\cdot dt\\cdot(A-tI)^{-T}+det(A-tI)\\cdot(A-tI)^{-T}\\cdot(A-tI)^{-T}dt$\n",
    "#### $\\rfloor(A-tI)=B$ для удобства, тогда:\n",
    "#### $d^2f=-\\langle (detB\\cdot (B^{-T})^2-detB\\cdot trB^{-1}\\cdot B^{-T})dt, Idt_1 \\rangle=\\langle detB\\cdot B^{-T}\\cdot(I\\cdot trB^{-1}-B^{-T})dt, Idt_1 \\rangle= detB\\cdot \\langle B^{-T}\\cdot(I\\cdot trB^{-1}-B^{-T})dt, Idt_1 \\rangle=detB\\cdot tr(B^{-T}\\cdot (I\\cdot trB^{-1}-B^{-T}))^Tdtdt_1$\n",
    "#### $\\Rightarrow f''=detB\\cdot tr(B^{-T}\\cdot (I\\cdot trB^{-1}-B^{-T}))^T=detB\\cdot tr((I\\cdot trB^{-1}-B^{-1})\\cdot B^{-1})$\n",
    "#### $\\Rightarrow\\boxed{f''=det(A-tI)\\cdot tr[(I\\cdot tr(A-tI)^{-1}-(A-tI)^{-1})\\cdot (A-tI)^{-1})]}$\n",
    "#### <u>Ответ:</u> $f'=-det(A-tI)\\cdot tr((A-tI)^{-1})$; $f''=det(A-tI)\\cdot tr[(I\\cdot tr(A-tI)^{-1}-(A-tI)^{-1})\\cdot (A-tI)^{-1}]$."
   ]
  },
  {
   "cell_type": "markdown",
   "id": "096a14ee",
   "metadata": {},
   "source": [
    "## №7\n",
    "#### $f(X)=tr(AX^2BX^{-T})$\n",
    "#### $\\nabla f(X)=?$\n",
    "#### <u>Реш.</u> $tr(AX^2BX^{-T})=tr(BX^{-T}AX^2)=\\langle X^{-1}B^T, AX^2 \\rangle$\n",
    "#### $df=d\\langle X^{-1}B^T, AX^2 \\rangle=\\langle d(X^{-1}B^T), AX^2 \\rangle+\\langle X^{-1}B^T, d(AX^2) \\rangle$\n",
    "#### $d(X^{-1}B^T)=d(X^{-1})B^T+X^{-1}d(B^T)=d(X^{-1})B^T=-X^{-1}(dX)X^{-1}B^T$\n",
    "#### $d(AX^2)=AX(dX)+A(dX)X$\n",
    "#### $df=\\langle -X^{-1}(dX)X^{-1}B^T, AX^2 \\rangle+\\langle X^{-1}B^T, AX(dX)+A(dX)X \\rangle=-\\langle X^{-1}dX, AX^2BX^{-T} \\rangle+\\langle X^{-1}B^T, AXdX \\rangle+\\langle X^{-1}B^T, AdXX \\rangle=-\\langle X^{-T}AX^2BX^{-T}, dX \\rangle+\\langle X^TA^TX^{-1}B^T, dX \\rangle+\\langle A^TX^{-1}B^TX^T, dX \\rangle=\\langle -X^{-T}AX^2BX^{-T}+X^TA^TX^{-1}B^T+A^TX^{-1}B^TX^T, dX \\rangle$\n",
    "#### $\\Rightarrow \\boxed{\\nabla f(X)=-X^{-T}AX^2BX^{-T}+X^TA^TX^{-1}B^T+A^TX^{-1}B^TX^T}$\n",
    "#### <u>Ответ:$\\nabla f(X)=-X^{-T}AX^2BX^{-T}+X^TA^TX^{-1}B^T+A^TX^{-1}B^TX^T.$"
   ]
  },
  {
   "cell_type": "code",
   "execution_count": null,
   "id": "c3786d27",
   "metadata": {},
   "outputs": [],
   "source": []
  }
 ],
 "metadata": {
  "kernelspec": {
   "display_name": "Python 3 (ipykernel)",
   "language": "python",
   "name": "python3"
  },
  "language_info": {
   "codemirror_mode": {
    "name": "ipython",
    "version": 3
   },
   "file_extension": ".py",
   "mimetype": "text/x-python",
   "name": "python",
   "nbconvert_exporter": "python",
   "pygments_lexer": "ipython3",
   "version": "3.10.6"
  }
 },
 "nbformat": 4,
 "nbformat_minor": 5
}
