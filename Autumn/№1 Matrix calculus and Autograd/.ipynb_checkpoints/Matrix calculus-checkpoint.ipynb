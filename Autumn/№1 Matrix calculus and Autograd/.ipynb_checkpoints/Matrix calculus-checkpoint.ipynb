{
 "cells": [
  {
   "cell_type": "markdown",
   "id": "49817514-5117-43d9-b308-53073498168d",
   "metadata": {},
   "source": [
    "# Matrix calculus (part 1)\n",
    "### Забара Илья"
   ]
  },
  {
   "cell_type": "markdown",
   "id": "4b3d21d0",
   "metadata": {},
   "source": [
    "## №1\n",
    "#### $A_{m\\times n}, x_{n\\times 1}, f(x)=tr(A^TAxx^T)$\n",
    "#### $\\nabla_xf(x)=?$\n",
    "#### <u>Реш.</u> $tr(A^TAxx^T)=\\langle A^TA, xx^T\\rangle$\n",
    "#### $df=d(\\langle A^TA, xx^T\\rangle)=\\langle A^TA, d(xx^T)\\rangle=\\langle A^TA,dxx^T+x(dx)^T\\rangle=\\langle A^TA,dxx^T\\rangle+\\langle A^TA, x(dx)^T\\rangle=\\langle A^TAx, dx\\rangle+\\langle dx, A^TAx\\rangle=\\langle 2A^TAx, dx\\rangle\\Rightarrow \\boxed{\\nabla_xf(x)=2A^TAx}$\n",
    "#### <u>Ответ:</u> $2A^TAx$."
   ]
  },
  {
   "cell_type": "markdown",
   "id": "f7b3ed71",
   "metadata": {},
   "source": [
    "## №2\n",
    "#### $f(x)=\\frac{1}{2}\\|Ax-b\\|^{2}_2$\n",
    "#### $\\nabla f(x)=?, H_f=?$\n",
    "#### <u>Реш.</u> $1)  df=\\frac{1}{2}d(\\|Ax-b\\|^{2}_2)=\\frac{1}{2}d\\langle Ax-b, Ax-b\\rangle=\\langle Ac-b, d(Ax-b)\\rangle=\\langle Ax-b, Adx\\rangle=\\langle A^T(Ax-b), dx\\rangle\\Rightarrow \\boxed{\\nabla f(x)=A^T(Ax-b)}$\n",
    "$2) df=\\langle A^T(Ax-b), dx_1\\rangle$, где $dx\\rightarrow dx_1=const$\n",
    "$d^2f=d(df)=\\langle d(A^TAx-A^Tb), dx_1\\rangle+0=\\langle d(A^TAx), dx_1\\rangle-0=\\langle A^TAdx, dx_1\\rangle=\\langle A^TAdx_1, dx\\rangle\\Rightarrow \\boxed{H_f=A^TA}$\n",
    "#### <u>Ответ:</u> $\\nabla f(x)=A^T(Ax-b)$, $H_f=A^TA$."
   ]
  },
  {
   "cell_type": "markdown",
   "id": "7f501697",
   "metadata": {},
   "source": [
    "## №3\n",
    "#### $f(x)=\\frac{1}{m}\\sum^{m}_{i=1}ln(1+exp(\\langle a_i, x\\rangle))+\\frac{\\mu}{2}\\|x\\|^{2}_2$\n",
    "#### $\\nabla f(x), H_f=?$\n",
    "#### <u>Реш.</u> 1) $\\nabla f=\\nabla_1f+\\nabla_2f$\n",
    "#### $\\nabla_2f=\\nabla (\\frac{\\mu}{2}\\|x\\|^2_2)=\\mu x$\n",
    "#### $\\nabla_1f=\\nabla(\\frac{1}{m}\\sum^m_{i=1}ln(1+exp(\\langle a_i, x\\rangle))=\\frac{1}{m}\\sum^m_{i=1}\\nabla ln(1+exp(\\langle a_i, x\\rangle)$\n",
    "#### $d(ln(1+exp(\\langle a_i, x\\rangle))=\\frac{d(exp\\langle a_i, x\\rangle)}{1+exp(\\langle a_i, x\\rangle}=\\langle\\frac{exp\\langle a_i, x\\rangle a_i}{1+exp(\\langle a_i, x\\rangle}, dx\\rangle\\Rightarrow\\nabla_1f=\\frac{1}{m}\\sum^m_{i=1}\\frac{exp\\langle a_i, x\\rangle a_i}{1+exp(\\langle a_i, x\\rangle}$\n",
    "#### Итого, $\\boxed{\\nabla f=\\frac{1}{m}\\sum^m_{i=1}\\frac{exp\\langle a_i, x\\rangle a_i}{1+exp(\\langle a_i, x\\rangle}+\\mu x}$\n",
    "#### 2) $df=\\left\\langle\\dfrac{1}{m}\\displaystyle\\sum^m_{i=1}\\frac{exp\\langle a_i, x\\rangle a_i}{1+exp(\\langle a_i, x\\rangle}+\\mu x, dx_1\\right\\rangle$, где $dx_1=const$\n",
    "#### $d^2f=d(df)=\\left\\langle d\\left(\\dfrac{1}{m}\\displaystyle\\sum^m_{i=1}\\dfrac{exp\\langle a_i, x\\rangle a_i}{1+exp(\\langle a_i, x\\rangle}+\\mu x\\right), dx_1\\right\\rangle+0$\n",
    "#### $d\\left(\\dfrac{exp\\langle a_i, x\\rangle a_i}{1+exp(\\langle a_i, x\\rangle}\\right)=\\dfrac{(1+exp\\langle a_i, x\\rangle) d(exp\\langle a_i, x\\rangle a_i-exp\\langle a_i, x\\rangle a_id(1+exp\\langle a_i, x\\rangle)}{(1+exp\\langle a_i, x\\rangle)^2}=\\dfrac{a_iexp\\langle a_i, x\\rangle\\langle a_i, dx\\rangle}{(1+exp\\langle a_i, x\\rangle)^2}$\n",
    "#### $d(\\mu x)=\\mu dx$\n",
    "#### $d^2f=\\left\\langle\\dfrac{1}{m}\\displaystyle\\sum^m_{i=1}\\dfrac{a_iexp\\langle a_i, x\\rangle\\langle a_i, dx\\rangle}{(1+exp\\langle a_i, x\\rangle)^2}+\\mu dx, dx_1\\right\\rangle=\\left\\langle\\dfrac{1}{m}\\displaystyle\\sum^m_{i=1}\\dfrac{exp\\langle a_i, x\\rangle}{(1+exp\\langle a_i, x\\rangle)^2}a_ia^T_idx+I\\mu dx, dx_1\\right\\rangle=\\left\\langle\\left(\\dfrac{1}{m}\\displaystyle\\sum^m_{i=1}\\dfrac{exp\\langle a_i, x\\rangle}{(1+exp\\langle a_i, x\\rangle)^2}a_ia^T_i+\\mu I\\right) dx, dx_1\\right\\rangle=\\left\\langle\\left(\\dfrac{1}{m}\\displaystyle\\sum^m_{i=1}\\dfrac{exp\\langle a_i, x\\rangle}{(1+exp\\langle a_i, x\\rangle)^2}a_ia^T_i+\\mu I\\right)dx_1, dx\\right\\rangle$\n",
    "#### $\\Rightarrow \\boxed{H_f=\\dfrac{1}{m}\\displaystyle\\sum^m_{i=1}\\dfrac{exp\\langle a_i, x\\rangle}{(1+exp\\langle a_i, x\\rangle)^2}a_ia^T_i+\\mu I}$\n",
    "#### <u>Ответ:</u> $\\nabla f=\\dfrac{1}{m}\\displaystyle\\sum^m_{i=1}\\dfrac{exp\\langle a_i, x\\rangle a_i}{1+exp(\\langle a_i, x\\rangle}+\\mu x$;  $H_f=\\dfrac{1}{m}\\displaystyle\\sum^m_{i=1}\\dfrac{exp\\langle a_i, x\\rangle}{(1+exp\\langle a_i, x\\rangle)^2}a_ia^T_i+\\mu I$."
   ]
  },
  {
   "cell_type": "markdown",
   "id": "09358d55",
   "metadata": {},
   "source": [
    "## №5\n",
    "#### В этом номере и далее будет активно использоваться свойство скалярного произведения $\\langle x, Ay\\rangle=\\langle A^Tx, y\\rangle$ или $\\langle x, yB\\rangle=\\langle xB^T, y\\rangle$. Нетрудно показать, что данное свойство справделиво как для скалярного произведения векторов, так и для введённого скалярного произведения матриц.\n",
    "#### $f(x)=\\frac{1}{2}\\|A-xx^T\\|^2_F, A\\in$"
   ]
  },
  {
   "cell_type": "code",
   "execution_count": null,
   "id": "8b7a5cca",
   "metadata": {},
   "outputs": [],
   "source": []
  }
 ],
 "metadata": {
  "kernelspec": {
   "display_name": "Python 3 (ipykernel)",
   "language": "python",
   "name": "python3"
  },
  "language_info": {
   "codemirror_mode": {
    "name": "ipython",
    "version": 3
   },
   "file_extension": ".py",
   "mimetype": "text/x-python",
   "name": "python",
   "nbconvert_exporter": "python",
   "pygments_lexer": "ipython3",
   "version": "3.10.6"
  }
 },
 "nbformat": 4,
 "nbformat_minor": 5
}
